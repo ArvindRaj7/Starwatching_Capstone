{
 "cells": [
  {
   "cell_type": "code",
   "execution_count": 5,
   "id": "33916fa2-5f36-4df3-a309-ac39e6b4cea3",
   "metadata": {},
   "outputs": [
    {
     "data": {
      "text/plain": [
       "'C:\\\\Users\\\\rajar\\\\Coding for Cornell\\\\Starwatching_Calculations_for_Capstone'"
      ]
     },
     "execution_count": 5,
     "metadata": {},
     "output_type": "execute_result"
    }
   ],
   "source": [
    "#get directory path\n",
    "import os\n",
    "os.getcwd()"
   ]
  },
  {
   "cell_type": "code",
   "execution_count": 6,
   "id": "723ce0c7-6291-4644-99af-d0566727ff47",
   "metadata": {},
   "outputs": [
    {
     "data": {
      "text/plain": [
       "'C:\\\\Users\\\\rajar\\\\Coding for Cornell\\\\Starwatching_Calculations_for_Capstone'"
      ]
     },
     "execution_count": 6,
     "metadata": {},
     "output_type": "execute_result"
    }
   ],
   "source": [
    "os.chdir('C:\\\\Users\\\\rajar\\\\Coding for Cornell\\\\Starwatching_Calculations_for_Capstone')\n",
    "path = os.getcwd()\n",
    "path"
   ]
  },
  {
   "cell_type": "markdown",
   "id": "ee9f4162-901f-4adf-b484-c8ced62807e7",
   "metadata": {},
   "source": [
    "# Classification of light pollution using population density"
   ]
  },
  {
   "cell_type": "markdown",
   "id": "33bd194e-44ea-4141-b6b9-45675e928641",
   "metadata": {
    "jp-MarkdownHeadingCollapsed": true
   },
   "source": [
    "## Problem statement\n",
    "This is important because if you want to go starwatching but don't know the light pollution levels, you don't have to have pre-existing knowledge or equipment to measure them. With this tool, you can calculate the light pollution without even needing to be there. This tool can also show, as the population increases, you can see how the light pollution increases"
   ]
  },
  {
   "cell_type": "markdown",
   "id": "e3907b67-7fd1-4ab8-af1c-7464de0c8090",
   "metadata": {},
   "source": [
    "## Data\n",
    "    My data is a reading of light pollution from across the United States. \"Globe at Night is an international citizen-science campaign to raise public awareness of the impact of light pollution by inviting citizen-scientists to measure & submit their night sky brightness observations.\" (Globe at Night 2025) The data is available in JSON and CSV formats. The source link is: https://globeatnight.org/documents/926/GaN2024.csv.\n",
    "    This data works well for this problem because it has readings for light pollution across the world, and that means I can also expand to other parts of the world. Also, it has multiple forms of measuring light pollution."
   ]
  },
  {
   "cell_type": "markdown",
   "id": "38ea5099-b6b1-435f-b7be-34ee9fee89b2",
   "metadata": {},
   "source": [
    "## Approach\n",
    "I am using classification to sort light pollution into high, medium, and low using population density. Supervised learning models are a subsection of machine learning that learn from labeled data. Meaning each input is paired with a corresponding output. This means that the population density will be paired with a light pollution level."
   ]
  },
  {
   "cell_type": "code",
   "execution_count": 7,
   "id": "0d2349af-1735-44d2-8590-c6867c92b773",
   "metadata": {},
   "outputs": [],
   "source": [
    "#import packages\n",
    "from sklearn.metrics import accuracy_score, recall_score, precision_score\n",
    "import pandas as pd\n",
    "import numpy as np\n",
    "import matplotlib.pyplot as plt\n",
    "import seaborn as sns\n",
    "import requests\n",
    "%matplotlib inline"
   ]
  },
  {
   "cell_type": "code",
   "execution_count": 8,
   "id": "00390889-2622-46e1-a472-365318e3900f",
   "metadata": {},
   "outputs": [
    {
     "data": {
      "text/html": [
       "<div>\n",
       "<style scoped>\n",
       "    .dataframe tbody tr th:only-of-type {\n",
       "        vertical-align: middle;\n",
       "    }\n",
       "\n",
       "    .dataframe tbody tr th {\n",
       "        vertical-align: top;\n",
       "    }\n",
       "\n",
       "    .dataframe thead th {\n",
       "        text-align: right;\n",
       "    }\n",
       "</style>\n",
       "<table border=\"1\" class=\"dataframe\">\n",
       "  <thead>\n",
       "    <tr style=\"text-align: right;\">\n",
       "      <th></th>\n",
       "      <th>Ranking</th>\n",
       "      <th>State</th>\n",
       "      <th>Population Density</th>\n",
       "      <th>LimitingMag</th>\n",
       "      <th>BortleClass</th>\n",
       "    </tr>\n",
       "  </thead>\n",
       "  <tbody>\n",
       "    <tr>\n",
       "      <th>0</th>\n",
       "      <td>1</td>\n",
       "      <td>New Jersey</td>\n",
       "      <td>1259</td>\n",
       "      <td>3.0</td>\n",
       "      <td>9</td>\n",
       "    </tr>\n",
       "    <tr>\n",
       "      <th>1</th>\n",
       "      <td>2</td>\n",
       "      <td>Rhode Island</td>\n",
       "      <td>1055</td>\n",
       "      <td>3.0</td>\n",
       "      <td>9</td>\n",
       "    </tr>\n",
       "    <tr>\n",
       "      <th>2</th>\n",
       "      <td>3</td>\n",
       "      <td>Massachusetts</td>\n",
       "      <td>894</td>\n",
       "      <td>3.0</td>\n",
       "      <td>9</td>\n",
       "    </tr>\n",
       "    <tr>\n",
       "      <th>3</th>\n",
       "      <td>4</td>\n",
       "      <td>Connecticut</td>\n",
       "      <td>749</td>\n",
       "      <td>3.0</td>\n",
       "      <td>9</td>\n",
       "    </tr>\n",
       "    <tr>\n",
       "      <th>4</th>\n",
       "      <td>5</td>\n",
       "      <td>Maryland</td>\n",
       "      <td>634</td>\n",
       "      <td>3.0</td>\n",
       "      <td>9</td>\n",
       "    </tr>\n",
       "  </tbody>\n",
       "</table>\n",
       "</div>"
      ],
      "text/plain": [
       "   Ranking          State  Population Density  LimitingMag  BortleClass\n",
       "0        1     New Jersey                1259          3.0            9\n",
       "1        2   Rhode Island                1055          3.0            9\n",
       "2        3  Massachusetts                 894          3.0            9\n",
       "3        4    Connecticut                 749          3.0            9\n",
       "4        5       Maryland                 634          3.0            9"
      ]
     },
     "execution_count": 8,
     "metadata": {},
     "output_type": "execute_result"
    }
   ],
   "source": [
    "# Read in dataframes\n",
    "df1 = pd.read_csv('data/PopulationDensity.csv')\n",
    "df2 = pd.read_csv('data/state_data.csv')\n",
    "\n",
    "# Change column names to match on 'State' column\n",
    "df1.columns = ['Ranking', 'State', 'Population Density']\n",
    "\n",
    "# Merge df1 and df2 on the 'State' column (inner join by default)\n",
    "test_df = pd.merge(df1, df2, on='State')\n",
    "\n",
    "test_df.head()"
   ]
  },
  {
   "cell_type": "code",
   "execution_count": 9,
   "id": "c1bab9f7-0f63-4082-9719-58dc46c457a9",
   "metadata": {},
   "outputs": [],
   "source": [
    "# Let's make a mapping function!\n",
    "def map_function (df, column_name, new_column_name):\n",
    "    keys = df[column_name].unique()\n",
    "    values = [i for i in range(len(keys))]\n",
    "    y_dict = dict(zip(keys, values))\n",
    "    df[new_column_name] = df[column_name].map(y_dict)\n",
    "    return df"
   ]
  },
  {
   "cell_type": "code",
   "execution_count": 30,
   "id": "08e9935b-24f1-4fd2-876e-f4b631456b37",
   "metadata": {},
   "outputs": [
    {
     "data": {
      "text/html": [
       "<div>\n",
       "<style scoped>\n",
       "    .dataframe tbody tr th:only-of-type {\n",
       "        vertical-align: middle;\n",
       "    }\n",
       "\n",
       "    .dataframe tbody tr th {\n",
       "        vertical-align: top;\n",
       "    }\n",
       "\n",
       "    .dataframe thead th {\n",
       "        text-align: right;\n",
       "    }\n",
       "</style>\n",
       "<table border=\"1\" class=\"dataframe\">\n",
       "  <thead>\n",
       "    <tr style=\"text-align: right;\">\n",
       "      <th></th>\n",
       "      <th>Ranking</th>\n",
       "      <th>State</th>\n",
       "      <th>Population Density</th>\n",
       "      <th>LimitingMag</th>\n",
       "      <th>BortleClass</th>\n",
       "      <th>labels</th>\n",
       "    </tr>\n",
       "  </thead>\n",
       "  <tbody>\n",
       "    <tr>\n",
       "      <th>0</th>\n",
       "      <td>1</td>\n",
       "      <td>New Jersey</td>\n",
       "      <td>1259</td>\n",
       "      <td>3.0</td>\n",
       "      <td>9</td>\n",
       "      <td>0</td>\n",
       "    </tr>\n",
       "    <tr>\n",
       "      <th>1</th>\n",
       "      <td>2</td>\n",
       "      <td>Rhode Island</td>\n",
       "      <td>1055</td>\n",
       "      <td>3.0</td>\n",
       "      <td>9</td>\n",
       "      <td>0</td>\n",
       "    </tr>\n",
       "    <tr>\n",
       "      <th>2</th>\n",
       "      <td>3</td>\n",
       "      <td>Massachusetts</td>\n",
       "      <td>894</td>\n",
       "      <td>3.0</td>\n",
       "      <td>9</td>\n",
       "      <td>0</td>\n",
       "    </tr>\n",
       "    <tr>\n",
       "      <th>3</th>\n",
       "      <td>4</td>\n",
       "      <td>Connecticut</td>\n",
       "      <td>749</td>\n",
       "      <td>3.0</td>\n",
       "      <td>9</td>\n",
       "      <td>0</td>\n",
       "    </tr>\n",
       "    <tr>\n",
       "      <th>4</th>\n",
       "      <td>5</td>\n",
       "      <td>Maryland</td>\n",
       "      <td>634</td>\n",
       "      <td>3.0</td>\n",
       "      <td>9</td>\n",
       "      <td>0</td>\n",
       "    </tr>\n",
       "  </tbody>\n",
       "</table>\n",
       "</div>"
      ],
      "text/plain": [
       "   Ranking          State  Population Density  LimitingMag  BortleClass  \\\n",
       "0        1     New Jersey                1259          3.0            9   \n",
       "1        2   Rhode Island                1055          3.0            9   \n",
       "2        3  Massachusetts                 894          3.0            9   \n",
       "3        4    Connecticut                 749          3.0            9   \n",
       "4        5       Maryland                 634          3.0            9   \n",
       "\n",
       "   labels  \n",
       "0       0  \n",
       "1       0  \n",
       "2       0  \n",
       "3       0  \n",
       "4       0  "
      ]
     },
     "execution_count": 30,
     "metadata": {},
     "output_type": "execute_result"
    }
   ],
   "source": [
    "processed_df = map_function(test_df, 'BortleClass', 'labels')\n",
    "processed_df.head()"
   ]
  },
  {
   "cell_type": "code",
   "execution_count": 34,
   "id": "3d7a9f66-1d0a-41b2-9cdd-2e465f034232",
   "metadata": {},
   "outputs": [
    {
     "data": {
      "image/png": "[encoded data removed]",
      "text/plain": [
       "<Figure size 1250x1250 with 30 Axes>"
      ]
     },
     "metadata": {},
     "output_type": "display_data"
    }
   ],
   "source": [
    "sns.pairplot(data= processed_df)\n",
    "plt.show()"
   ]
  },
  {
   "cell_type": "code",
   "execution_count": 11,
   "id": "34bd11fe-13d6-41fe-901b-1777a4c87dc4",
   "metadata": {},
   "outputs": [],
   "source": [
    "\n",
    "# Load the packages\n",
    "from sklearn.model_selection import train_test_split"
   ]
  },
  {
   "cell_type": "code",
   "execution_count": 12,
   "id": "9f7c66c1-2ccf-423d-80d0-f5f989e0d54c",
   "metadata": {},
   "outputs": [],
   "source": [
    "# Split the data into test and train sets at 30:70 percent splits\n",
    "features = ['Population Density', 'LimitingMag']\n",
    "X = processed_df[features]  # Features\n",
    "y = processed_df['labels']  # Target variable"
   ]
  },
  {
   "cell_type": "code",
   "execution_count": 13,
   "id": "e4fd0d9b-78ad-4ed6-9740-747ed7a3f7f7",
   "metadata": {},
   "outputs": [
    {
     "name": "stdout",
     "output_type": "stream",
     "text": [
      "(50, 2)\n",
      "(50,)\n"
     ]
    }
   ],
   "source": [
    "print(X.shape)\n",
    "print(y.shape)"
   ]
  },
  {
   "cell_type": "code",
   "execution_count": 14,
   "id": "6497cabc-e810-402b-bee1-3a51ae6c53b8",
   "metadata": {},
   "outputs": [
    {
     "name": "stdout",
     "output_type": "stream",
     "text": [
      "Shape of X_train:   (35, 2)\n",
      "Shape of X_test:   (15, 2)\n",
      "Shape of y_train:   (35,)\n",
      "Shape of y_test:   (15,)\n"
     ]
    }
   ],
   "source": [
    "X_train, X_test, y_train, y_test = train_test_split(X, y, test_size=0.3, random_state=42)\n",
    "print('Shape of X_train:  ', X_train.shape)\n",
    "print('Shape of X_test:  ', X_test.shape)\n",
    "print('Shape of y_train:  ', y_train.shape)\n",
    "print('Shape of y_test:  ', y_test.shape)"
   ]
  },
  {
   "cell_type": "markdown",
   "id": "80b9a540-843e-4e05-ac3f-24f517d72ba0",
   "metadata": {},
   "source": [
    "Random Forrest"
   ]
  },
  {
   "cell_type": "code",
   "execution_count": 15,
   "id": "d773ee25-6511-4302-a9db-7325b554f4e9",
   "metadata": {},
   "outputs": [],
   "source": [
    "# Import the package\n",
    "from sklearn.ensemble import RandomForestClassifier\n",
    "\n",
    "# instantiate the model\n",
    "rnf = RandomForestClassifier(n_estimators = 10, criterion = 'entropy', random_state=42)\n",
    "\n",
    "# fit the model with data\n",
    "rnf.fit(X_train, y_train)\n",
    "y_predRF = rnf.predict(X_test)"
   ]
  },
  {
   "cell_type": "code",
   "execution_count": 16,
   "id": "7b73348f-4ee0-4eb2-9d8e-a57c41afbccd",
   "metadata": {},
   "outputs": [
    {
     "name": "stdout",
     "output_type": "stream",
     "text": [
      "(15, 2)\n"
     ]
    },
    {
     "data": {
      "text/html": [
       "<div>\n",
       "<style scoped>\n",
       "    .dataframe tbody tr th:only-of-type {\n",
       "        vertical-align: middle;\n",
       "    }\n",
       "\n",
       "    .dataframe tbody tr th {\n",
       "        vertical-align: top;\n",
       "    }\n",
       "\n",
       "    .dataframe thead th {\n",
       "        text-align: right;\n",
       "    }\n",
       "</style>\n",
       "<table border=\"1\" class=\"dataframe\">\n",
       "  <thead>\n",
       "    <tr style=\"text-align: right;\">\n",
       "      <th></th>\n",
       "      <th>y_test</th>\n",
       "      <th>y_predRF</th>\n",
       "    </tr>\n",
       "  </thead>\n",
       "  <tbody>\n",
       "    <tr>\n",
       "      <th>13</th>\n",
       "      <td>1</td>\n",
       "      <td>1</td>\n",
       "    </tr>\n",
       "    <tr>\n",
       "      <th>39</th>\n",
       "      <td>2</td>\n",
       "      <td>2</td>\n",
       "    </tr>\n",
       "    <tr>\n",
       "      <th>30</th>\n",
       "      <td>2</td>\n",
       "      <td>2</td>\n",
       "    </tr>\n",
       "    <tr>\n",
       "      <th>45</th>\n",
       "      <td>2</td>\n",
       "      <td>2</td>\n",
       "    </tr>\n",
       "    <tr>\n",
       "      <th>17</th>\n",
       "      <td>1</td>\n",
       "      <td>1</td>\n",
       "    </tr>\n",
       "  </tbody>\n",
       "</table>\n",
       "</div>"
      ],
      "text/plain": [
       "    y_test  y_predRF\n",
       "13       1         1\n",
       "39       2         2\n",
       "30       2         2\n",
       "45       2         2\n",
       "17       1         1"
      ]
     },
     "execution_count": 16,
     "metadata": {},
     "output_type": "execute_result"
    }
   ],
   "source": [
    "#Create dataframe to compare\n",
    "dataRF = {'y_test': y_test, 'y_predRF': y_predRF}\n",
    "test_predRF = pd.DataFrame(dataRF)\n",
    "print(test_predRF.shape)\n",
    "test_predRF.head()"
   ]
  },
  {
   "cell_type": "code",
   "execution_count": 17,
   "id": "9cdf27bb-fc02-427a-a572-5d99ea27c5f5",
   "metadata": {},
   "outputs": [
    {
     "name": "stdout",
     "output_type": "stream",
     "text": [
      "(0, 2)\n"
     ]
    },
    {
     "data": {
      "text/html": [
       "<div>\n",
       "<style scoped>\n",
       "    .dataframe tbody tr th:only-of-type {\n",
       "        vertical-align: middle;\n",
       "    }\n",
       "\n",
       "    .dataframe tbody tr th {\n",
       "        vertical-align: top;\n",
       "    }\n",
       "\n",
       "    .dataframe thead th {\n",
       "        text-align: right;\n",
       "    }\n",
       "</style>\n",
       "<table border=\"1\" class=\"dataframe\">\n",
       "  <thead>\n",
       "    <tr style=\"text-align: right;\">\n",
       "      <th></th>\n",
       "      <th>y_test</th>\n",
       "      <th>y_predRF</th>\n",
       "    </tr>\n",
       "  </thead>\n",
       "  <tbody>\n",
       "  </tbody>\n",
       "</table>\n",
       "</div>"
      ],
      "text/plain": [
       "Empty DataFrame\n",
       "Columns: [y_test, y_predRF]\n",
       "Index: []"
      ]
     },
     "execution_count": 17,
     "metadata": {},
     "output_type": "execute_result"
    }
   ],
   "source": [
    "# Find instances where y_pred was incorrect\n",
    "incorrectRF = test_predRF[test_predRF['y_test'] != test_predRF['y_predRF']]\n",
    "print(incorrectRF.shape)\n",
    "incorrectRF.head()"
   ]
  },
  {
   "cell_type": "code",
   "execution_count": 18,
   "id": "e6fd729b-2c8e-4071-996a-732a6eb56951",
   "metadata": {},
   "outputs": [
    {
     "name": "stdout",
     "output_type": "stream",
     "text": [
      "Accuracy Score: 1.0\n",
      "Recall score: 1.0\n",
      "Precision score: 1.0\n"
     ]
    }
   ],
   "source": [
    "# Calculate scores\n",
    "accuracyRF = accuracy_score(y_test, y_predRF)\n",
    "recallRF = recall_score(y_test, y_predRF, average = 'macro')\n",
    "precisionRF = precision_score(y_test, y_predRF, average = 'macro')\n",
    "print(f\"Accuracy Score: {accuracyRF}\")\n",
    "print(f\"Recall score: {recallRF}\")\n",
    "print(f\"Precision score: {precisionRF}\")"
   ]
  },
  {
   "cell_type": "markdown",
   "id": "8993f540-14bd-4860-984d-f82386d77190",
   "metadata": {},
   "source": [
    "NB"
   ]
  },
  {
   "cell_type": "code",
   "execution_count": 19,
   "id": "a09304a9-eab1-4f7b-a27b-90c373a9c26a",
   "metadata": {},
   "outputs": [],
   "source": [
    "# import the packages\n",
    "from sklearn.naive_bayes import MultinomialNB\n",
    "\n",
    "# instantiate the model (using the default parameters)\n",
    "mnb = MultinomialNB()\n",
    "\n",
    "# fit the model with data\n",
    "mnb.fit(X_train, y_train)\n",
    "y_predNB = mnb.predict(X_test)"
   ]
  },
  {
   "cell_type": "code",
   "execution_count": 20,
   "id": "3406bfdc-c5a8-47c8-a8f7-aca177cac25c",
   "metadata": {},
   "outputs": [
    {
     "data": {
      "text/html": [
       "<div>\n",
       "<style scoped>\n",
       "    .dataframe tbody tr th:only-of-type {\n",
       "        vertical-align: middle;\n",
       "    }\n",
       "\n",
       "    .dataframe tbody tr th {\n",
       "        vertical-align: top;\n",
       "    }\n",
       "\n",
       "    .dataframe thead th {\n",
       "        text-align: right;\n",
       "    }\n",
       "</style>\n",
       "<table border=\"1\" class=\"dataframe\">\n",
       "  <thead>\n",
       "    <tr style=\"text-align: right;\">\n",
       "      <th></th>\n",
       "      <th>y_test</th>\n",
       "      <th>y_predNB</th>\n",
       "    </tr>\n",
       "  </thead>\n",
       "  <tbody>\n",
       "    <tr>\n",
       "      <th>13</th>\n",
       "      <td>1</td>\n",
       "      <td>1</td>\n",
       "    </tr>\n",
       "    <tr>\n",
       "      <th>39</th>\n",
       "      <td>2</td>\n",
       "      <td>2</td>\n",
       "    </tr>\n",
       "    <tr>\n",
       "      <th>30</th>\n",
       "      <td>2</td>\n",
       "      <td>2</td>\n",
       "    </tr>\n",
       "    <tr>\n",
       "      <th>45</th>\n",
       "      <td>2</td>\n",
       "      <td>2</td>\n",
       "    </tr>\n",
       "    <tr>\n",
       "      <th>17</th>\n",
       "      <td>1</td>\n",
       "      <td>1</td>\n",
       "    </tr>\n",
       "  </tbody>\n",
       "</table>\n",
       "</div>"
      ],
      "text/plain": [
       "    y_test  y_predNB\n",
       "13       1         1\n",
       "39       2         2\n",
       "30       2         2\n",
       "45       2         2\n",
       "17       1         1"
      ]
     },
     "execution_count": 20,
     "metadata": {},
     "output_type": "execute_result"
    }
   ],
   "source": [
    "#Create dataframe to compare\n",
    "dataNB = {'y_test': y_test, 'y_predNB': y_predNB}\n",
    "test_predNB = pd.DataFrame(dataNB)\n",
    "test_predNB.head()\n"
   ]
  },
  {
   "cell_type": "code",
   "execution_count": 21,
   "id": "bf3d0836-0a1e-4776-8705-8b46fe989105",
   "metadata": {},
   "outputs": [
    {
     "name": "stdout",
     "output_type": "stream",
     "text": [
      "(1, 2)\n"
     ]
    },
    {
     "data": {
      "text/html": [
       "<div>\n",
       "<style scoped>\n",
       "    .dataframe tbody tr th:only-of-type {\n",
       "        vertical-align: middle;\n",
       "    }\n",
       "\n",
       "    .dataframe tbody tr th {\n",
       "        vertical-align: top;\n",
       "    }\n",
       "\n",
       "    .dataframe thead th {\n",
       "        text-align: right;\n",
       "    }\n",
       "</style>\n",
       "<table border=\"1\" class=\"dataframe\">\n",
       "  <thead>\n",
       "    <tr style=\"text-align: right;\">\n",
       "      <th></th>\n",
       "      <th>y_test</th>\n",
       "      <th>y_predNB</th>\n",
       "    </tr>\n",
       "  </thead>\n",
       "  <tbody>\n",
       "    <tr>\n",
       "      <th>12</th>\n",
       "      <td>2</td>\n",
       "      <td>1</td>\n",
       "    </tr>\n",
       "  </tbody>\n",
       "</table>\n",
       "</div>"
      ],
      "text/plain": [
       "    y_test  y_predNB\n",
       "12       2         1"
      ]
     },
     "execution_count": 21,
     "metadata": {},
     "output_type": "execute_result"
    }
   ],
   "source": [
    "# Find instances where y_pred was incorrect\n",
    "incorrectNB = test_predNB[test_predNB['y_test'] != test_predNB['y_predNB']]\n",
    "print(incorrectNB.shape)\n",
    "incorrectNB.head()"
   ]
  },
  {
   "cell_type": "code",
   "execution_count": 22,
   "id": "8e689dc1-f750-4559-b503-ba83156aa222",
   "metadata": {},
   "outputs": [
    {
     "name": "stdout",
     "output_type": "stream",
     "text": [
      "Accuracy Score: 0.9333333333333333\n",
      "Recall score: 0.9523809523809524\n",
      "Precision score: 0.9523809523809524\n"
     ]
    }
   ],
   "source": [
    "# Calculate scores\n",
    "accuracyNB = accuracy_score(y_test, y_predNB)\n",
    "recallNB = recall_score(y_test, y_predNB, average = 'macro')\n",
    "precisionNB = precision_score(y_test, y_predNB, average = 'macro')\n",
    "print(f\"Accuracy Score: {accuracyNB}\")\n",
    "print(f\"Recall score: {recallNB}\")\n",
    "print(f\"Precision score: {precisionNB}\")"
   ]
  },
  {
   "cell_type": "markdown",
   "id": "52df754d-a023-4d46-9f82-302dacc2c665",
   "metadata": {},
   "source": [
    "Logistic Regression"
   ]
  },
  {
   "cell_type": "code",
   "execution_count": 23,
   "id": "80906bd9-7182-48d5-9266-b3653c2773ae",
   "metadata": {},
   "outputs": [
    {
     "name": "stderr",
     "output_type": "stream",
     "text": [
      "C:\\ProgramData\\anaconda3\\Lib\\site-packages\\sklearn\\linear_model\\_logistic.py:1256: FutureWarning: 'multi_class' was deprecated in version 1.5 and will be removed in 1.7. Use OneVsRestClassifier(LogisticRegression(..)) instead. Leave it to its default value to avoid this warning.\n",
      "  warnings.warn(\n"
     ]
    }
   ],
   "source": [
    "# import the packages\n",
    "from sklearn.linear_model import LogisticRegression\n",
    "\n",
    "# instantiate the model (using parameters for multiclass)\n",
    "logreg = LogisticRegression(multi_class='ovr', solver='liblinear', random_state=42)\n",
    "\n",
    "# fit the model with data\n",
    "logreg.fit(X_train, y_train)\n",
    "\n",
    "y_pred = logreg.predict(X_test)"
   ]
  },
  {
   "cell_type": "code",
   "execution_count": 24,
   "id": "4940e327-0019-407a-9b10-805207f7b572",
   "metadata": {},
   "outputs": [
    {
     "data": {
      "text/html": [
       "<div>\n",
       "<style scoped>\n",
       "    .dataframe tbody tr th:only-of-type {\n",
       "        vertical-align: middle;\n",
       "    }\n",
       "\n",
       "    .dataframe tbody tr th {\n",
       "        vertical-align: top;\n",
       "    }\n",
       "\n",
       "    .dataframe thead th {\n",
       "        text-align: right;\n",
       "    }\n",
       "</style>\n",
       "<table border=\"1\" class=\"dataframe\">\n",
       "  <thead>\n",
       "    <tr style=\"text-align: right;\">\n",
       "      <th></th>\n",
       "      <th>y_test</th>\n",
       "      <th>y_pred</th>\n",
       "    </tr>\n",
       "  </thead>\n",
       "  <tbody>\n",
       "    <tr>\n",
       "      <th>13</th>\n",
       "      <td>1</td>\n",
       "      <td>1</td>\n",
       "    </tr>\n",
       "    <tr>\n",
       "      <th>39</th>\n",
       "      <td>2</td>\n",
       "      <td>2</td>\n",
       "    </tr>\n",
       "    <tr>\n",
       "      <th>30</th>\n",
       "      <td>2</td>\n",
       "      <td>2</td>\n",
       "    </tr>\n",
       "    <tr>\n",
       "      <th>45</th>\n",
       "      <td>2</td>\n",
       "      <td>2</td>\n",
       "    </tr>\n",
       "    <tr>\n",
       "      <th>17</th>\n",
       "      <td>1</td>\n",
       "      <td>1</td>\n",
       "    </tr>\n",
       "  </tbody>\n",
       "</table>\n",
       "</div>"
      ],
      "text/plain": [
       "    y_test  y_pred\n",
       "13       1       1\n",
       "39       2       2\n",
       "30       2       2\n",
       "45       2       2\n",
       "17       1       1"
      ]
     },
     "execution_count": 24,
     "metadata": {},
     "output_type": "execute_result"
    }
   ],
   "source": [
    "#Create dataframe to compare\n",
    "data = {'y_test': y_test, 'y_pred': y_pred}\n",
    "test_pred = pd.DataFrame(data)\n",
    "test_pred.head()"
   ]
  },
  {
   "cell_type": "code",
   "execution_count": 25,
   "id": "f5f724fa-2a9a-4402-9fd0-8d86fffbeaf6",
   "metadata": {},
   "outputs": [
    {
     "name": "stdout",
     "output_type": "stream",
     "text": [
      "(2, 2)\n"
     ]
    },
    {
     "data": {
      "text/html": [
       "<div>\n",
       "<style scoped>\n",
       "    .dataframe tbody tr th:only-of-type {\n",
       "        vertical-align: middle;\n",
       "    }\n",
       "\n",
       "    .dataframe tbody tr th {\n",
       "        vertical-align: top;\n",
       "    }\n",
       "\n",
       "    .dataframe thead th {\n",
       "        text-align: right;\n",
       "    }\n",
       "</style>\n",
       "<table border=\"1\" class=\"dataframe\">\n",
       "  <thead>\n",
       "    <tr style=\"text-align: right;\">\n",
       "      <th></th>\n",
       "      <th>y_test</th>\n",
       "      <th>y_pred</th>\n",
       "    </tr>\n",
       "  </thead>\n",
       "  <tbody>\n",
       "    <tr>\n",
       "      <th>12</th>\n",
       "      <td>2</td>\n",
       "      <td>1</td>\n",
       "    </tr>\n",
       "    <tr>\n",
       "      <th>8</th>\n",
       "      <td>1</td>\n",
       "      <td>0</td>\n",
       "    </tr>\n",
       "  </tbody>\n",
       "</table>\n",
       "</div>"
      ],
      "text/plain": [
       "    y_test  y_pred\n",
       "12       2       1\n",
       "8        1       0"
      ]
     },
     "execution_count": 25,
     "metadata": {},
     "output_type": "execute_result"
    }
   ],
   "source": [
    "# Find instances where the classification algorithm was incorrect\n",
    "incorrect = test_pred[test_pred['y_test'] != test_pred['y_pred']]\n",
    "print(incorrect.shape)\n",
    "incorrect.head()"
   ]
  },
  {
   "cell_type": "code",
   "execution_count": 26,
   "id": "2c8192b1-4743-436e-8612-8c7c58472c7c",
   "metadata": {},
   "outputs": [
    {
     "name": "stdout",
     "output_type": "stream",
     "text": [
      "Accuracy Score: 0.8666666666666667\n",
      "Recall score: 0.8968253968253969\n",
      "Precision score: 0.8333333333333334\n"
     ]
    }
   ],
   "source": [
    "\n",
    "# Calculate scores\n",
    "accuracy = accuracy_score(y_test, y_pred)\n",
    "recall = recall_score(y_test, y_pred, average = 'macro')\n",
    "precision = precision_score(y_test, y_pred, average = 'macro')\n",
    "print(f\"Accuracy Score: {accuracy}\")\n",
    "print(f\"Recall score: {recall}\")\n",
    "print(f\"Precision score: {precision}\")g"
   ]
  },
  {
   "cell_type": "markdown",
   "id": "597498fd-00f6-4a70-81e0-7b396cfaa52b",
   "metadata": {},
   "source": [
    "## Conclusion\n",
    "\n",
    "My models worked well, Naive Bayes worked the best, with a 93% accuracy, then Logistic Regression, with a 86% accuracy.  Random Forest didn't work, so I will stick with Naive Bayes.\n",
    "I believe this is a good start to building a solution that can help people. We can expand this project to go global, and people could use this information to improve their starwatching experience."
   ]
  }
 ],
 "metadata": {
  "kernelspec": {
   "display_name": "Python [conda env:base] *",
   "language": "python",
   "name": "conda-base-py"
  },
  "language_info": {
   "codemirror_mode": {
    "name": "ipython",
    "version": 3
   },
   "file_extension": ".py",
   "mimetype": "text/x-python",
   "name": "python",
   "nbconvert_exporter": "python",
   "pygments_lexer": "ipython3",
   "version": "3.13.5"
  }
 },
 "nbformat": 4,
 "nbformat_minor": 5
}
