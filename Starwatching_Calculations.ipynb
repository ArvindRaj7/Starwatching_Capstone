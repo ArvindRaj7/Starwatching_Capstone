{
 "cells": [
  {
   "cell_type": "code",
   "execution_count": 1,
   "id": "33916fa2-5f36-4df3-a309-ac39e6b4cea3",
   "metadata": {},
   "outputs": [
    {
     "data": {
      "text/plain": [
       "'C:\\\\Users\\\\Yrelav\\\\Documents\\\\Capstone_project\\\\Arvind'"
      ]
     },
     "execution_count": 1,
     "metadata": {},
     "output_type": "execute_result"
    }
   ],
   "source": [
    "#get directory path\n",
    "import os\n",
    "os.getcwd()"
   ]
  },
  {
   "cell_type": "code",
   "execution_count": null,
   "id": "723ce0c7-6291-4644-99af-d0566727ff47",
   "metadata": {},
   "outputs": [],
   "source": [
    "os.chdir('C:\\\\Users\\\\rajar\\\\Coding for Cornell\\\\Starwatching_Calculations_for_Capstone')\n",
    "path = os.getcwd()\n",
    "path"
   ]
  },
  {
   "cell_type": "code",
   "execution_count": 3,
   "id": "57cb30e1-ffda-49d1-b4a4-027a81423c4a",
   "metadata": {},
   "outputs": [],
   "source": [
    "#import packages\n",
    "import pandas as pd\n",
    "import numpy as np\n",
    "import matplotlib.pyplot as plt\n",
    "import seaborn as sns\n",
    "import requests\n",
    "%matplotlib inline"
   ]
  },
  {
   "cell_type": "code",
   "execution_count": 5,
   "id": "00390889-2622-46e1-a472-365318e3900f",
   "metadata": {},
   "outputs": [
    {
     "data": {
      "text/html": [
       "<div>\n",
       "<style scoped>\n",
       "    .dataframe tbody tr th:only-of-type {\n",
       "        vertical-align: middle;\n",
       "    }\n",
       "\n",
       "    .dataframe tbody tr th {\n",
       "        vertical-align: top;\n",
       "    }\n",
       "\n",
       "    .dataframe thead th {\n",
       "        text-align: right;\n",
       "    }\n",
       "</style>\n",
       "<table border=\"1\" class=\"dataframe\">\n",
       "  <thead>\n",
       "    <tr style=\"text-align: right;\">\n",
       "      <th></th>\n",
       "      <th>Ranking</th>\n",
       "      <th>State</th>\n",
       "      <th>Population Density</th>\n",
       "      <th>LimitingMag</th>\n",
       "      <th>BortleClass</th>\n",
       "    </tr>\n",
       "  </thead>\n",
       "  <tbody>\n",
       "    <tr>\n",
       "      <th>0</th>\n",
       "      <td>1</td>\n",
       "      <td>New Jersey</td>\n",
       "      <td>1259</td>\n",
       "      <td>3.34</td>\n",
       "      <td>8</td>\n",
       "    </tr>\n",
       "    <tr>\n",
       "      <th>1</th>\n",
       "      <td>2</td>\n",
       "      <td>Rhode Island</td>\n",
       "      <td>1055</td>\n",
       "      <td>0.94</td>\n",
       "      <td>9</td>\n",
       "    </tr>\n",
       "    <tr>\n",
       "      <th>2</th>\n",
       "      <td>3</td>\n",
       "      <td>Massachusetts</td>\n",
       "      <td>894</td>\n",
       "      <td>2.62</td>\n",
       "      <td>9</td>\n",
       "    </tr>\n",
       "    <tr>\n",
       "      <th>3</th>\n",
       "      <td>4</td>\n",
       "      <td>Connecticut</td>\n",
       "      <td>749</td>\n",
       "      <td>2.45</td>\n",
       "      <td>9</td>\n",
       "    </tr>\n",
       "    <tr>\n",
       "      <th>4</th>\n",
       "      <td>5</td>\n",
       "      <td>Maryland</td>\n",
       "      <td>634</td>\n",
       "      <td>2.25</td>\n",
       "      <td>9</td>\n",
       "    </tr>\n",
       "  </tbody>\n",
       "</table>\n",
       "</div>"
      ],
      "text/plain": [
       "   Ranking          State  Population Density  LimitingMag  BortleClass\n",
       "0        1     New Jersey                1259         3.34            8\n",
       "1        2   Rhode Island                1055         0.94            9\n",
       "2        3  Massachusetts                 894         2.62            9\n",
       "3        4    Connecticut                 749         2.45            9\n",
       "4        5       Maryland                 634         2.25            9"
      ]
     },
     "execution_count": 5,
     "metadata": {},
     "output_type": "execute_result"
    }
   ],
   "source": [
    "# Read in dataframes\n",
    "df1 = pd.read_csv('data/PopulationDensity.csv')\n",
    "df2 = pd.read_csv('data/state_data.csv')\n",
    "\n",
    "# Change column names to match on 'State' column\n",
    "df1.columns = ['Ranking', 'State', 'Population Density']\n",
    "\n",
    "# Merge df1 and df2 on the 'State' column (inner join by default)\n",
    "test_df = pd.merge(df1, df2, on='State')\n",
    "\n",
    "test_df.head()"
   ]
  },
  {
   "cell_type": "code",
   "execution_count": null,
   "id": "8204243a-38cf-4fd3-beda-2e5214ee552b",
   "metadata": {},
   "outputs": [],
   "source": []
  }
 ],
 "metadata": {
  "kernelspec": {
   "display_name": "Python 3 (ipykernel)",
   "language": "python",
   "name": "python3"
  },
  "language_info": {
   "codemirror_mode": {
    "name": "ipython",
    "version": 3
   },
   "file_extension": ".py",
   "mimetype": "text/x-python",
   "name": "python",
   "nbconvert_exporter": "python",
   "pygments_lexer": "ipython3",
   "version": "3.12.4"
  }
 },
 "nbformat": 4,
 "nbformat_minor": 5
}
